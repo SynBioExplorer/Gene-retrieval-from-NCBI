{
  "cells": [
    {
      "cell_type": "code",
      "execution_count": null,
      "metadata": {
        "colab": {
          "base_uri": "https://localhost:8080/"
        },
        "id": "AYXOb-CLLdGE",
        "outputId": "eab2476b-cb8f-4d4a-a0a7-19cf3eff24a9"
      },
      "outputs": [
        {
          "name": "stdout",
          "output_type": "stream",
          "text": [
            "Requirement already satisfied: biopython in /usr/local/lib/python3.10/dist-packages (1.83)\n",
            "Requirement already satisfied: numpy in /usr/local/lib/python3.10/dist-packages (from biopython) (1.25.2)\n"
          ]
        }
      ],
      "source": [
        "pip install biopython\n"
      ]
    },
    {
      "cell_type": "code",
      "execution_count": null,
      "metadata": {
        "id": "A78N4qu5LfF6"
      },
      "outputs": [],
      "source": [
        "from Bio import Entrez\n",
        "import xml.etree.ElementTree as ET\n",
        "import csv\n",
        "import time\n",
        "import pandas as pd\n",
        "from tqdm import tqdm"
      ]
    },
    {
      "cell_type": "code",
      "execution_count": null,
      "metadata": {
        "id": "38QkGc0gUYbC"
      },
      "outputs": [],
      "source": [
        "api_key =\"xxxxx\"\n",
        "Entrez.email = \"xxx\"\n",
        "\n",
        "# Provide the API key to Entrez\n",
        "Entrez.api_key = api_key"
      ]
    },
    {
      "cell_type": "code",
      "execution_count": null,
      "metadata": {
        "id": "Zpq190HFMsb-"
      },
      "outputs": [],
      "source": [
        "excel_file=\"All genes.xlsx\"\n",
        "xls = pd.ExcelFile(excel_file)\n",
        "sheets_dict = pd.read_excel(xls, sheet_name=None)\n",
        "# Initialize a list to hold all the gene IDs from all sheets\n",
        "gene_ids = []\n",
        "\n",
        "# Extract GeneIDs from each sheet and append to the list\n",
        "for sheet_name, sheet_data in sheets_dict.items():\n",
        "    if 'GeneID' in sheet_data.columns:\n",
        "        gene_ids.extend(sheet_data['GeneID'].tolist())\n",
        "\n",
        "# Remove duplicate gene IDs, if any\n",
        "gene_ids = list(set(gene_ids))"
      ]
    },
    {
      "cell_type": "code",
      "execution_count": null,
      "metadata": {
        "colab": {
          "base_uri": "https://localhost:8080/"
        },
        "id": "BpZ2idXqoJQx",
        "outputId": "d4a900ab-0756-47c2-dd4b-a5fd3820566f"
      },
      "outputs": [
        {
          "data": {
            "text/plain": [
              "6380"
            ]
          },
          "execution_count": 25,
          "metadata": {},
          "output_type": "execute_result"
        }
      ],
      "source": [
        "len(gene_ids)"
      ]
    },
    {
      "cell_type": "code",
      "execution_count": null,
      "metadata": {
        "colab": {
          "base_uri": "https://localhost:8080/"
        },
        "id": "OJfU-UkQWKs7",
        "outputId": "c6e8d60e-4e78-473e-df87-6c4ebc8f28ed"
      },
      "outputs": [
        {
          "name": "stderr",
          "output_type": "stream",
          "text": [
            "Fetching Gene Information:   1%|▏         | 80/6380 [00:40<53:50,  1.95it/s]"
          ]
        },
        {
          "name": "stdout",
          "output_type": "stream",
          "text": [
            "Error occurred for gene ID CDZ96283: HTTP Error 400: Bad Request. Retrying in 1 seconds...\n"
          ]
        },
        {
          "name": "stderr",
          "output_type": "stream",
          "text": [
            "Fetching Gene Information:   2%|▏         | 156/6380 [01:15<29:22,  3.53it/s]"
          ]
        },
        {
          "name": "stdout",
          "output_type": "stream",
          "text": [
            "Error occurred for gene ID CDZ97970: HTTP Error 400: Bad Request. Retrying in 1 seconds...\n"
          ]
        },
        {
          "name": "stderr",
          "output_type": "stream",
          "text": [
            "Fetching Gene Information:   3%|▎         | 206/6380 [01:45<40:50,  2.52it/s]"
          ]
        },
        {
          "name": "stdout",
          "output_type": "stream",
          "text": [
            "Error occurred for gene ID CDZ96242: HTTP Error 400: Bad Request. Retrying in 1 seconds...\n"
          ]
        },
        {
          "name": "stderr",
          "output_type": "stream",
          "text": [
            "Fetching Gene Information:   5%|▌         | 329/6380 [02:45<1:33:14,  1.08it/s]"
          ]
        },
        {
          "name": "stdout",
          "output_type": "stream",
          "text": [
            "Error occurred for gene ID CED82797: HTTP Error 400: Bad Request. Retrying in 1 seconds...\n"
          ]
        },
        {
          "name": "stderr",
          "output_type": "stream",
          "text": [
            "Fetching Gene Information:   6%|▌         | 354/6380 [02:59<41:43,  2.41it/s]"
          ]
        },
        {
          "name": "stdout",
          "output_type": "stream",
          "text": [
            "Error occurred for gene ID CDZ98407: HTTP Error 400: Bad Request. Retrying in 1 seconds...\n"
          ]
        },
        {
          "name": "stderr",
          "output_type": "stream",
          "text": [
            "Fetching Gene Information:   6%|▌         | 359/6380 [03:05<1:28:25,  1.13it/s]"
          ]
        },
        {
          "name": "stdout",
          "output_type": "stream",
          "text": [
            "Error occurred for gene ID CED85140: HTTP Error 400: Bad Request. Retrying in 1 seconds...\n"
          ]
        },
        {
          "name": "stderr",
          "output_type": "stream",
          "text": [
            "Fetching Gene Information:   7%|▋         | 440/6380 [03:44<39:50,  2.48it/s]"
          ]
        },
        {
          "name": "stdout",
          "output_type": "stream",
          "text": [
            "Error occurred for gene ID CDZ98058: HTTP Error 400: Bad Request. Retrying in 1 seconds...\n"
          ]
        },
        {
          "name": "stderr",
          "output_type": "stream",
          "text": [
            "Fetching Gene Information:   8%|▊         | 491/6380 [04:06<32:26,  3.03it/s]"
          ]
        },
        {
          "name": "stdout",
          "output_type": "stream",
          "text": [
            "Error occurred for gene ID CDZ97882: HTTP Error 400: Bad Request. Retrying in 1 seconds...\n"
          ]
        },
        {
          "name": "stderr",
          "output_type": "stream",
          "text": [
            "Fetching Gene Information:   9%|▊         | 545/6380 [04:28<1:10:09,  1.39it/s]"
          ]
        },
        {
          "name": "stdout",
          "output_type": "stream",
          "text": [
            "Error occurred for gene ID CED82156: HTTP Error 400: Bad Request. Retrying in 1 seconds...\n"
          ]
        },
        {
          "name": "stderr",
          "output_type": "stream",
          "text": [
            "Fetching Gene Information:   9%|▉         | 576/6380 [04:46<59:23,  1.63it/s]  "
          ]
        },
        {
          "name": "stdout",
          "output_type": "stream",
          "text": [
            "Error occurred for gene ID CED84085: HTTP Error 400: Bad Request. Retrying in 1 seconds...\n"
          ]
        },
        {
          "name": "stderr",
          "output_type": "stream",
          "text": [
            "Fetching Gene Information:  11%|█         | 686/6380 [05:40<53:10,  1.78it/s]"
          ]
        },
        {
          "name": "stdout",
          "output_type": "stream",
          "text": [
            "Error occurred for gene ID CED82247: HTTP Error 400: Bad Request. Retrying in 1 seconds...\n"
          ]
        },
        {
          "name": "stderr",
          "output_type": "stream",
          "text": [
            "Fetching Gene Information:  12%|█▏        | 796/6380 [06:21<32:13,  2.89it/s]"
          ]
        },
        {
          "name": "stdout",
          "output_type": "stream",
          "text": [
            "Error occurred for gene ID CED82756: HTTP Error 400: Bad Request. Retrying in 1 seconds...\n"
          ]
        },
        {
          "name": "stderr",
          "output_type": "stream",
          "text": [
            "Fetching Gene Information:  13%|█▎        | 807/6380 [06:30<1:23:53,  1.11it/s]"
          ]
        },
        {
          "name": "stdout",
          "output_type": "stream",
          "text": [
            "Error occurred for gene ID CED83179: HTTP Error 400: Bad Request. Retrying in 1 seconds...\n"
          ]
        },
        {
          "name": "stderr",
          "output_type": "stream",
          "text": [
            "Fetching Gene Information:  13%|█▎        | 814/6380 [06:34<42:35,  2.18it/s]"
          ]
        },
        {
          "name": "stdout",
          "output_type": "stream",
          "text": [
            "Error occurred for gene ID CDZ98617: HTTP Error 400: Bad Request. Retrying in 1 seconds...\n"
          ]
        },
        {
          "name": "stderr",
          "output_type": "stream",
          "text": [
            "Fetching Gene Information:  16%|█▌        | 1012/6380 [07:57<30:26,  2.94it/s]"
          ]
        },
        {
          "name": "stdout",
          "output_type": "stream",
          "text": [
            "Error occurred for gene ID CED85339: HTTP Error 400: Bad Request. Retrying in 1 seconds...\n"
          ]
        },
        {
          "name": "stderr",
          "output_type": "stream",
          "text": [
            "Fetching Gene Information:  16%|█▋        | 1051/6380 [08:13<24:46,  3.59it/s]"
          ]
        },
        {
          "name": "stdout",
          "output_type": "stream",
          "text": [
            "Error occurred for gene ID CED83793: HTTP Error 400: Bad Request. Retrying in 1 seconds...\n"
          ]
        },
        {
          "name": "stderr",
          "output_type": "stream",
          "text": [
            "Fetching Gene Information:  20%|██        | 1299/6380 [10:06<36:15,  2.34it/s]"
          ]
        },
        {
          "name": "stdout",
          "output_type": "stream",
          "text": [
            "Error occurred for gene ID CDZ97352: HTTP Error 400: Bad Request. Retrying in 1 seconds...\n"
          ]
        },
        {
          "name": "stderr",
          "output_type": "stream",
          "text": [
            "Fetching Gene Information:  23%|██▎       | 1480/6380 [11:32<55:06,  1.48it/s]  "
          ]
        },
        {
          "name": "stdout",
          "output_type": "stream",
          "text": [
            "Error occurred for gene ID CDZ96270: HTTP Error 400: Bad Request. Retrying in 1 seconds...\n"
          ]
        },
        {
          "name": "stderr",
          "output_type": "stream",
          "text": [
            "Fetching Gene Information:  24%|██▍       | 1544/6380 [12:07<32:39,  2.47it/s]"
          ]
        },
        {
          "name": "stdout",
          "output_type": "stream",
          "text": [
            "Error occurred for gene ID CED84388: HTTP Error 400: Bad Request. Retrying in 1 seconds...\n"
          ]
        },
        {
          "name": "stderr",
          "output_type": "stream",
          "text": [
            "Fetching Gene Information:  29%|██▊       | 1828/6380 [14:15<29:24,  2.58it/s]"
          ]
        },
        {
          "name": "stdout",
          "output_type": "stream",
          "text": [
            "Error occurred for gene ID CED83219: HTTP Error 400: Bad Request. Retrying in 1 seconds...\n"
          ]
        },
        {
          "name": "stderr",
          "output_type": "stream",
          "text": [
            "Fetching Gene Information:  31%|███       | 1982/6380 [15:16<19:37,  3.73it/s]"
          ]
        },
        {
          "name": "stdout",
          "output_type": "stream",
          "text": [
            "Error occurred for gene ID CED82922: HTTP Error 400: Bad Request. Retrying in 1 seconds...\n"
          ]
        },
        {
          "name": "stderr",
          "output_type": "stream",
          "text": [
            "Fetching Gene Information:  31%|███▏      | 2000/6380 [15:30<38:16,  1.91it/s]"
          ]
        },
        {
          "name": "stdout",
          "output_type": "stream",
          "text": [
            "Error occurred for gene ID CED84482: HTTP Error 400: Bad Request. Retrying in 1 seconds...\n"
          ]
        },
        {
          "name": "stderr",
          "output_type": "stream",
          "text": [
            "Fetching Gene Information:  33%|███▎      | 2086/6380 [16:07<21:07,  3.39it/s]"
          ]
        },
        {
          "name": "stdout",
          "output_type": "stream",
          "text": [
            "Error occurred for gene ID CDZ98196: HTTP Error 400: Bad Request. Retrying in 1 seconds...\n"
          ]
        },
        {
          "name": "stderr",
          "output_type": "stream",
          "text": [
            "Fetching Gene Information:  35%|███▌      | 2243/6380 [17:21<47:32,  1.45it/s]"
          ]
        },
        {
          "name": "stdout",
          "output_type": "stream",
          "text": [
            "Error occurred for gene ID CDZ97746: HTTP Error 400: Bad Request. Retrying in 1 seconds...\n"
          ]
        },
        {
          "name": "stderr",
          "output_type": "stream",
          "text": [
            "Fetching Gene Information:  37%|███▋      | 2385/6380 [18:30<45:05,  1.48it/s]"
          ]
        },
        {
          "name": "stdout",
          "output_type": "stream",
          "text": [
            "Error occurred for gene ID CDZ98660: HTTP Error 400: Bad Request. Retrying in 1 seconds...\n"
          ]
        },
        {
          "name": "stderr",
          "output_type": "stream",
          "text": [
            "Fetching Gene Information:  38%|███▊      | 2446/6380 [18:56<52:49,  1.24it/s]"
          ]
        },
        {
          "name": "stdout",
          "output_type": "stream",
          "text": [
            "Error occurred for gene ID CDZ97144: HTTP Error 400: Bad Request. Retrying in 1 seconds...\n"
          ]
        },
        {
          "name": "stderr",
          "output_type": "stream",
          "text": [
            "Fetching Gene Information:  42%|████▏     | 2695/6380 [20:43<26:46,  2.29it/s]"
          ]
        },
        {
          "name": "stdout",
          "output_type": "stream",
          "text": [
            "Error occurred for gene ID CDZ98271: HTTP Error 400: Bad Request. Retrying in 1 seconds...\n"
          ]
        },
        {
          "name": "stderr",
          "output_type": "stream",
          "text": [
            "Fetching Gene Information:  45%|████▌     | 2885/6380 [22:13<17:07,  3.40it/s]"
          ]
        },
        {
          "name": "stdout",
          "output_type": "stream",
          "text": [
            "Error occurred for gene ID CED83640: HTTP Error 400: Bad Request. Retrying in 1 seconds...\n"
          ]
        },
        {
          "name": "stderr",
          "output_type": "stream",
          "text": [
            "Fetching Gene Information:  46%|████▌     | 2924/6380 [22:32<21:46,  2.65it/s]"
          ]
        },
        {
          "name": "stdout",
          "output_type": "stream",
          "text": [
            "Error occurred for gene ID CDZ97595: HTTP Error 400: Bad Request. Retrying in 1 seconds...\n"
          ]
        },
        {
          "name": "stderr",
          "output_type": "stream",
          "text": [
            "Fetching Gene Information:  46%|████▋     | 2964/6380 [22:49<21:07,  2.70it/s]"
          ]
        },
        {
          "name": "stdout",
          "output_type": "stream",
          "text": [
            "Error occurred for gene ID CED84039: HTTP Error 400: Bad Request. Retrying in 1 seconds...\n"
          ]
        },
        {
          "name": "stderr",
          "output_type": "stream",
          "text": [
            "Fetching Gene Information:  47%|████▋     | 2969/6380 [22:53<27:38,  2.06it/s]"
          ]
        },
        {
          "name": "stdout",
          "output_type": "stream",
          "text": [
            "Error occurred for gene ID CED84033: HTTP Error 400: Bad Request. Retrying in 1 seconds...\n"
          ]
        },
        {
          "name": "stderr",
          "output_type": "stream",
          "text": [
            "Fetching Gene Information:  48%|████▊     | 3061/6380 [23:33<26:42,  2.07it/s]"
          ]
        },
        {
          "name": "stdout",
          "output_type": "stream",
          "text": [
            "Error occurred for gene ID CDZ96770: HTTP Error 400: Bad Request. Retrying in 1 seconds...\n"
          ]
        },
        {
          "name": "stderr",
          "output_type": "stream",
          "text": [
            "Fetching Gene Information:  49%|████▊     | 3095/6380 [23:49<19:33,  2.80it/s]"
          ]
        },
        {
          "name": "stdout",
          "output_type": "stream",
          "text": [
            "Error occurred for gene ID CED85285: HTTP Error 400: Bad Request. Retrying in 1 seconds...\n"
          ]
        },
        {
          "name": "stderr",
          "output_type": "stream",
          "text": [
            "Fetching Gene Information:  49%|████▉     | 3114/6380 [23:57<23:53,  2.28it/s]"
          ]
        },
        {
          "name": "stdout",
          "output_type": "stream",
          "text": [
            "Error occurred for gene ID CDZ97294: HTTP Error 400: Bad Request. Retrying in 1 seconds...\n"
          ]
        },
        {
          "name": "stderr",
          "output_type": "stream",
          "text": [
            "Fetching Gene Information:  52%|█████▏    | 3326/6380 [25:28<19:39,  2.59it/s]"
          ]
        },
        {
          "name": "stdout",
          "output_type": "stream",
          "text": [
            "Error occurred for gene ID CED83888: HTTP Error 400: Bad Request. Retrying in 1 seconds...\n"
          ]
        },
        {
          "name": "stderr",
          "output_type": "stream",
          "text": [
            "Fetching Gene Information:  53%|█████▎    | 3373/6380 [25:48<14:36,  3.43it/s]"
          ]
        },
        {
          "name": "stdout",
          "output_type": "stream",
          "text": [
            "Error occurred for gene ID CDZ97481: HTTP Error 400: Bad Request. Retrying in 1 seconds...\n"
          ]
        },
        {
          "name": "stderr",
          "output_type": "stream",
          "text": [
            "\rFetching Gene Information:  53%|█████▎    | 3374/6380 [25:51<48:41,  1.03it/s]"
          ]
        },
        {
          "name": "stdout",
          "output_type": "stream",
          "text": [
            "Error occurred for gene ID CDZ96226: HTTP Error 400: Bad Request. Retrying in 1 seconds...\n"
          ]
        },
        {
          "name": "stderr",
          "output_type": "stream",
          "text": [
            "Fetching Gene Information:  55%|█████▍    | 3490/6380 [26:39<15:06,  3.19it/s]"
          ]
        },
        {
          "name": "stdout",
          "output_type": "stream",
          "text": [
            "Error occurred for gene ID CED82109: HTTP Error 400: Bad Request. Retrying in 1 seconds...\n"
          ]
        },
        {
          "name": "stderr",
          "output_type": "stream",
          "text": [
            "Fetching Gene Information:  56%|█████▌    | 3568/6380 [27:20<41:36,  1.13it/s]"
          ]
        },
        {
          "name": "stdout",
          "output_type": "stream",
          "text": [
            "Error occurred for gene ID CDZ96181: HTTP Error 400: Bad Request. Retrying in 1 seconds...\n"
          ]
        },
        {
          "name": "stderr",
          "output_type": "stream",
          "text": [
            "Fetching Gene Information:  56%|█████▋    | 3591/6380 [27:38<26:11,  1.77it/s]"
          ]
        },
        {
          "name": "stdout",
          "output_type": "stream",
          "text": [
            "Error occurred for gene ID CED84536: HTTP Error 400: Bad Request. Retrying in 1 seconds...\n"
          ]
        },
        {
          "name": "stderr",
          "output_type": "stream",
          "text": [
            "Fetching Gene Information:  57%|█████▋    | 3617/6380 [27:51<22:47,  2.02it/s]"
          ]
        },
        {
          "name": "stdout",
          "output_type": "stream",
          "text": [
            "Error occurred for gene ID CDZ97753: HTTP Error 400: Bad Request. Retrying in 1 seconds...\n"
          ]
        },
        {
          "name": "stderr",
          "output_type": "stream",
          "text": [
            "Fetching Gene Information:  59%|█████▊    | 3747/6380 [28:47<15:13,  2.88it/s]"
          ]
        },
        {
          "name": "stdout",
          "output_type": "stream",
          "text": [
            "Error occurred for gene ID CDZ98207: HTTP Error 400: Bad Request. Retrying in 1 seconds...\n"
          ]
        },
        {
          "name": "stderr",
          "output_type": "stream",
          "text": [
            "Fetching Gene Information:  60%|██████    | 3858/6380 [29:31<13:49,  3.04it/s]"
          ]
        },
        {
          "name": "stdout",
          "output_type": "stream",
          "text": [
            "Error occurred for gene ID CDZ96618: HTTP Error 400: Bad Request. Retrying in 1 seconds...\n"
          ]
        },
        {
          "name": "stderr",
          "output_type": "stream",
          "text": [
            "Fetching Gene Information:  62%|██████▏   | 3932/6380 [30:02<14:38,  2.79it/s]"
          ]
        },
        {
          "name": "stdout",
          "output_type": "stream",
          "text": [
            "Error occurred for gene ID CDZ96958: HTTP Error 400: Bad Request. Retrying in 1 seconds...\n"
          ]
        },
        {
          "name": "stderr",
          "output_type": "stream",
          "text": [
            "Fetching Gene Information:  62%|██████▏   | 3961/6380 [30:12<11:02,  3.65it/s]"
          ]
        },
        {
          "name": "stdout",
          "output_type": "stream",
          "text": [
            "Error occurred for gene ID CDZ97237: HTTP Error 400: Bad Request. Retrying in 1 seconds...\n"
          ]
        },
        {
          "name": "stderr",
          "output_type": "stream",
          "text": [
            "\rFetching Gene Information:  62%|██████▏   | 3962/6380 [30:14<36:23,  1.11it/s]"
          ]
        },
        {
          "name": "stdout",
          "output_type": "stream",
          "text": [
            "Error occurred for gene ID CDZ97268: HTTP Error 400: Bad Request. Retrying in 1 seconds...\n"
          ]
        },
        {
          "name": "stderr",
          "output_type": "stream",
          "text": [
            "Fetching Gene Information:  63%|██████▎   | 4012/6380 [30:43<14:19,  2.76it/s]"
          ]
        },
        {
          "name": "stdout",
          "output_type": "stream",
          "text": [
            "Error occurred for gene ID CDZ97421: HTTP Error 400: Bad Request. Retrying in 1 seconds...\n",
            "Error occurred for gene ID CDZ97421: HTTP Error 400: Bad Request. Retrying in 2 seconds...\n"
          ]
        },
        {
          "name": "stderr",
          "output_type": "stream",
          "text": [
            "Fetching Gene Information:  66%|██████▌   | 4217/6380 [32:12<10:19,  3.49it/s]"
          ]
        },
        {
          "name": "stdout",
          "output_type": "stream",
          "text": [
            "Error occurred for gene ID CED82174: HTTP Error 400: Bad Request. Retrying in 1 seconds...\n"
          ]
        },
        {
          "name": "stderr",
          "output_type": "stream",
          "text": [
            "Fetching Gene Information:  67%|██████▋   | 4258/6380 [32:35<09:32,  3.71it/s]"
          ]
        },
        {
          "name": "stdout",
          "output_type": "stream",
          "text": [
            "Error occurred for gene ID CED85012: HTTP Error 400: Bad Request. Retrying in 1 seconds...\n"
          ]
        },
        {
          "name": "stderr",
          "output_type": "stream",
          "text": [
            "Fetching Gene Information:  67%|██████▋   | 4278/6380 [32:43<10:38,  3.29it/s]"
          ]
        },
        {
          "name": "stdout",
          "output_type": "stream",
          "text": [
            "Error occurred for gene ID CED83641: HTTP Error 400: Bad Request. Retrying in 1 seconds...\n"
          ]
        },
        {
          "name": "stderr",
          "output_type": "stream",
          "text": [
            "Fetching Gene Information:  67%|██████▋   | 4301/6380 [32:54<12:22,  2.80it/s]"
          ]
        },
        {
          "name": "stdout",
          "output_type": "stream",
          "text": [
            "Error occurred for gene ID CDZ97455: HTTP Error 400: Bad Request. Retrying in 1 seconds...\n"
          ]
        },
        {
          "name": "stderr",
          "output_type": "stream",
          "text": [
            "Fetching Gene Information:  68%|██████▊   | 4334/6380 [33:08<10:35,  3.22it/s]"
          ]
        },
        {
          "name": "stdout",
          "output_type": "stream",
          "text": [
            "Error occurred for gene ID CDZ96935: HTTP Error 400: Bad Request. Retrying in 1 seconds...\n"
          ]
        },
        {
          "name": "stderr",
          "output_type": "stream",
          "text": [
            "Fetching Gene Information:  68%|██████▊   | 4339/6380 [33:13<27:53,  1.22it/s]"
          ]
        },
        {
          "name": "stdout",
          "output_type": "stream",
          "text": [
            "Error occurred for gene ID CED85621: HTTP Error 400: Bad Request. Retrying in 1 seconds...\n"
          ]
        },
        {
          "name": "stderr",
          "output_type": "stream",
          "text": [
            "Fetching Gene Information:  73%|███████▎  | 4688/6380 [35:51<16:11,  1.74it/s]"
          ]
        },
        {
          "name": "stdout",
          "output_type": "stream",
          "text": [
            "Error occurred for gene ID CED85544: HTTP Error 400: Bad Request. Retrying in 1 seconds...\n"
          ]
        },
        {
          "name": "stderr",
          "output_type": "stream",
          "text": [
            "Fetching Gene Information:  74%|███████▍  | 4715/6380 [36:02<09:17,  2.99it/s]"
          ]
        },
        {
          "name": "stdout",
          "output_type": "stream",
          "text": [
            "Error occurred for gene ID CDZ98173: HTTP Error 400: Bad Request. Retrying in 1 seconds...\n"
          ]
        },
        {
          "name": "stderr",
          "output_type": "stream",
          "text": [
            "Fetching Gene Information:  74%|███████▍  | 4742/6380 [36:16<23:21,  1.17it/s]"
          ]
        },
        {
          "name": "stdout",
          "output_type": "stream",
          "text": [
            "Error occurred for gene ID CDZ97287: HTTP Error 400: Bad Request. Retrying in 1 seconds...\n"
          ]
        },
        {
          "name": "stderr",
          "output_type": "stream",
          "text": [
            "Fetching Gene Information:  75%|███████▌  | 4792/6380 [36:37<09:28,  2.79it/s]"
          ]
        },
        {
          "name": "stdout",
          "output_type": "stream",
          "text": [
            "Error occurred for gene ID CED82516: HTTP Error 400: Bad Request. Retrying in 1 seconds...\n"
          ]
        },
        {
          "name": "stderr",
          "output_type": "stream",
          "text": [
            "Fetching Gene Information:  76%|███████▌  | 4834/6380 [36:56<11:52,  2.17it/s]"
          ]
        },
        {
          "name": "stdout",
          "output_type": "stream",
          "text": [
            "Error occurred for gene ID CDZ97542: HTTP Error 400: Bad Request. Retrying in 1 seconds...\n"
          ]
        },
        {
          "name": "stderr",
          "output_type": "stream",
          "text": [
            "Fetching Gene Information:  76%|███████▋  | 4869/6380 [37:16<17:13,  1.46it/s]"
          ]
        },
        {
          "name": "stdout",
          "output_type": "stream",
          "text": [
            "Error occurred for gene ID CDZ96665: HTTP Error 400: Bad Request. Retrying in 1 seconds...\n",
            "Error occurred for gene ID CDZ96665: HTTP Error 400: Bad Request. Retrying in 2 seconds...\n"
          ]
        },
        {
          "name": "stderr",
          "output_type": "stream",
          "text": [
            "Fetching Gene Information:  77%|███████▋  | 4885/6380 [37:29<12:54,  1.93it/s]"
          ]
        },
        {
          "name": "stdout",
          "output_type": "stream",
          "text": [
            "Error occurred for gene ID CED82032: HTTP Error 400: Bad Request. Retrying in 1 seconds...\n"
          ]
        },
        {
          "name": "stderr",
          "output_type": "stream",
          "text": [
            "Fetching Gene Information:  77%|███████▋  | 4903/6380 [37:43<24:37,  1.00s/it]"
          ]
        },
        {
          "name": "stdout",
          "output_type": "stream",
          "text": [
            "Error occurred for gene ID CDZ96896: HTTP Error 400: Bad Request. Retrying in 1 seconds...\n"
          ]
        },
        {
          "name": "stderr",
          "output_type": "stream",
          "text": [
            "\rFetching Gene Information:  77%|███████▋  | 4904/6380 [37:46<34:42,  1.41s/it]"
          ]
        },
        {
          "name": "stdout",
          "output_type": "stream",
          "text": [
            "Error occurred for gene ID CED83913: HTTP Error 400: Bad Request. Retrying in 1 seconds...\n"
          ]
        },
        {
          "name": "stderr",
          "output_type": "stream",
          "text": [
            "Fetching Gene Information:  77%|███████▋  | 4929/6380 [37:59<08:42,  2.78it/s]"
          ]
        },
        {
          "name": "stdout",
          "output_type": "stream",
          "text": [
            "Error occurred for gene ID CED85532: HTTP Error 400: Bad Request. Retrying in 1 seconds...\n"
          ]
        },
        {
          "name": "stderr",
          "output_type": "stream",
          "text": [
            "Fetching Gene Information:  78%|███████▊  | 4999/6380 [38:37<09:53,  2.33it/s]"
          ]
        },
        {
          "name": "stdout",
          "output_type": "stream",
          "text": [
            "Error occurred for gene ID CDZ98633: HTTP Error 400: Bad Request. Retrying in 1 seconds...\n"
          ]
        },
        {
          "name": "stderr",
          "output_type": "stream",
          "text": [
            "Fetching Gene Information:  80%|███████▉  | 5077/6380 [39:15<18:36,  1.17it/s]"
          ]
        },
        {
          "name": "stdout",
          "output_type": "stream",
          "text": [
            "Error occurred for gene ID CED82592: HTTP Error 400: Bad Request. Retrying in 1 seconds...\n"
          ]
        },
        {
          "name": "stderr",
          "output_type": "stream",
          "text": [
            "Fetching Gene Information:  80%|████████  | 5106/6380 [39:33<15:30,  1.37it/s]"
          ]
        },
        {
          "name": "stdout",
          "output_type": "stream",
          "text": [
            "Error occurred for gene ID CED84321: HTTP Error 400: Bad Request. Retrying in 1 seconds...\n"
          ]
        },
        {
          "name": "stderr",
          "output_type": "stream",
          "text": [
            "Fetching Gene Information:  81%|████████  | 5181/6380 [40:12<12:35,  1.59it/s]"
          ]
        },
        {
          "name": "stdout",
          "output_type": "stream",
          "text": [
            "Error occurred for gene ID CDZ97914: HTTP Error 400: Bad Request. Retrying in 1 seconds...\n"
          ]
        },
        {
          "name": "stderr",
          "output_type": "stream",
          "text": [
            "Fetching Gene Information:  82%|████████▏ | 5202/6380 [40:24<07:24,  2.65it/s]"
          ]
        },
        {
          "name": "stdout",
          "output_type": "stream",
          "text": [
            "Error occurred for gene ID CED82548: HTTP Error 400: Bad Request. Retrying in 1 seconds...\n"
          ]
        },
        {
          "name": "stderr",
          "output_type": "stream",
          "text": [
            "Fetching Gene Information:  83%|████████▎ | 5296/6380 [41:11<10:06,  1.79it/s]"
          ]
        },
        {
          "name": "stdout",
          "output_type": "stream",
          "text": [
            "Error occurred for gene ID CDZ98024: HTTP Error 400: Bad Request. Retrying in 1 seconds...\n"
          ]
        },
        {
          "name": "stderr",
          "output_type": "stream",
          "text": [
            "Fetching Gene Information:  83%|████████▎ | 5319/6380 [41:21<07:21,  2.40it/s]"
          ]
        },
        {
          "name": "stdout",
          "output_type": "stream",
          "text": [
            "Error occurred for gene ID CED84819: HTTP Error 400: Bad Request. Retrying in 1 seconds...\n"
          ]
        },
        {
          "name": "stderr",
          "output_type": "stream",
          "text": [
            "Fetching Gene Information:  85%|████████▍ | 5408/6380 [42:05<05:19,  3.04it/s]"
          ]
        },
        {
          "name": "stdout",
          "output_type": "stream",
          "text": [
            "Error occurred for gene ID CED84987: HTTP Error 400: Bad Request. Retrying in 1 seconds...\n"
          ]
        },
        {
          "name": "stderr",
          "output_type": "stream",
          "text": [
            "Fetching Gene Information:  86%|████████▌ | 5489/6380 [42:47<06:56,  2.14it/s]"
          ]
        },
        {
          "name": "stdout",
          "output_type": "stream",
          "text": [
            "Error occurred for gene ID CDZ98744: HTTP Error 400: Bad Request. Retrying in 1 seconds...\n"
          ]
        },
        {
          "name": "stderr",
          "output_type": "stream",
          "text": [
            "Fetching Gene Information:  87%|████████▋ | 5533/6380 [43:03<04:27,  3.17it/s]"
          ]
        },
        {
          "name": "stdout",
          "output_type": "stream",
          "text": [
            "Error occurred for gene ID CED82282: HTTP Error 400: Bad Request. Retrying in 1 seconds...\n"
          ]
        },
        {
          "name": "stderr",
          "output_type": "stream",
          "text": [
            "Fetching Gene Information:  88%|████████▊ | 5597/6380 [43:31<04:21,  3.00it/s]"
          ]
        },
        {
          "name": "stdout",
          "output_type": "stream",
          "text": [
            "Error occurred for gene ID CDZ98728: HTTP Error 400: Bad Request. Retrying in 1 seconds...\n"
          ]
        },
        {
          "name": "stderr",
          "output_type": "stream",
          "text": [
            "Fetching Gene Information:  91%|█████████ | 5802/6380 [45:11<05:56,  1.62it/s]"
          ]
        },
        {
          "name": "stdout",
          "output_type": "stream",
          "text": [
            "Error occurred for gene ID CDZ97943: HTTP Error 400: Bad Request. Retrying in 1 seconds...\n"
          ]
        },
        {
          "name": "stderr",
          "output_type": "stream",
          "text": [
            "\rFetching Gene Information:  91%|█████████ | 5803/6380 [45:14<10:57,  1.14s/it]"
          ]
        },
        {
          "name": "stdout",
          "output_type": "stream",
          "text": [
            "Error occurred for gene ID CDZ96204: HTTP Error 400: Bad Request. Retrying in 1 seconds...\n"
          ]
        },
        {
          "name": "stderr",
          "output_type": "stream",
          "text": [
            "Fetching Gene Information:  91%|█████████ | 5805/6380 [45:16<11:08,  1.16s/it]"
          ]
        },
        {
          "name": "stdout",
          "output_type": "stream",
          "text": [
            "Error occurred for gene ID CED84525: HTTP Error 400: Bad Request. Retrying in 1 seconds...\n"
          ]
        },
        {
          "name": "stderr",
          "output_type": "stream",
          "text": [
            "Fetching Gene Information:  92%|█████████▏| 5868/6380 [45:47<08:13,  1.04it/s]"
          ]
        },
        {
          "name": "stdout",
          "output_type": "stream",
          "text": [
            "Error occurred for gene ID CED84456: HTTP Error 400: Bad Request. Retrying in 1 seconds...\n"
          ]
        },
        {
          "name": "stderr",
          "output_type": "stream",
          "text": [
            "Fetching Gene Information:  97%|█████████▋| 6197/6380 [48:10<00:54,  3.36it/s]"
          ]
        },
        {
          "name": "stdout",
          "output_type": "stream",
          "text": [
            "Error occurred for gene ID CDZ96423: HTTP Error 400: Bad Request. Retrying in 1 seconds...\n"
          ]
        },
        {
          "name": "stderr",
          "output_type": "stream",
          "text": [
            "Fetching Gene Information:  99%|█████████▉| 6323/6380 [49:05<00:18,  3.09it/s]"
          ]
        },
        {
          "name": "stdout",
          "output_type": "stream",
          "text": [
            "Error occurred for gene ID CDZ98076: HTTP Error 400: Bad Request. Retrying in 1 seconds...\n"
          ]
        },
        {
          "name": "stderr",
          "output_type": "stream",
          "text": [
            "Fetching Gene Information: 100%|██████████| 6380/6380 [49:30<00:00,  2.15it/s]"
          ]
        },
        {
          "name": "stdout",
          "output_type": "stream",
          "text": [
            "     Gene ID        Status      Gene Name  \\\n",
            "0      97577     secondary  E230019G03Rik   \n",
            "1      97252     secondary         C81327   \n",
            "2      96289  discontinued       LOC96289   \n",
            "3      84545          live         MRPL43   \n",
            "4      82891  discontinued       LOC82891   \n",
            "...      ...           ...            ...   \n",
            "6310   84278          live       MFSD14CP   \n",
            "6311   96658  discontinued       LOC96658   \n",
            "6312   96793  discontinued       LOC96793   \n",
            "6313   97854     secondary         C77215   \n",
            "6314   98269     secondary       AI132431   \n",
            "\n",
            "                                            Description  \\\n",
            "0                            RIKEN cDNA E230019G03 gene   \n",
            "1                             expressed sequence C81327   \n",
            "2     similar to enabled homolog (Drosophila) (M. mu...   \n",
            "3                   mitochondrial ribosomal protein L43   \n",
            "4     similar to RED PROTEIN (RER PROTEIN) (M. muscu...   \n",
            "...                                                 ...   \n",
            "6310  major facilitator superfamily domain containin...   \n",
            "6311  similar to ZINC FINGER PROTEIN 23 (ZINC FINGER...   \n",
            "6312  similar to hypothetical protein MGC2615 (H. sa...   \n",
            "6313                          expressed sequence C77215   \n",
            "6314                        expressed sequence AI132431   \n",
            "\n",
            "                                                Summary    Synonyms  \n",
            "0                                                                    \n",
            "1                                                                    \n",
            "2     DISCONTINUED: This record has been withdrawn b...              \n",
            "3     Mammalian mitochondrial ribosomal proteins are...  \\n          \n",
            "4     DISCONTINUED: This record has been withdrawn b...              \n",
            "...                                                 ...         ...  \n",
            "6310  Predicted to enable transmembrane transporter ...  \\n          \n",
            "6311  DISCONTINUED: This record has been withdrawn b...              \n",
            "6312  DISCONTINUED: This record has been withdrawn b...              \n",
            "6313                                                                 \n",
            "6314                                                                 \n",
            "\n",
            "[6315 rows x 6 columns]\n"
          ]
        },
        {
          "name": "stderr",
          "output_type": "stream",
          "text": [
            "\n"
          ]
        }
      ],
      "source": [
        "import time\n",
        "from tqdm import tqdm\n",
        "import xml.etree.ElementTree as ET\n",
        "from Bio import Entrez\n",
        "\n",
        "# Function to fetch gene information with exponential backoff and retries\n",
        "def fetch_gene_info_with_retry(gene_ids, max_retries=5, base_delay=1):\n",
        "    retry_delay = base_delay\n",
        "    for attempt in range(max_retries):\n",
        "        try:\n",
        "            handle = Entrez.efetch(db=\"gene\", id=gene_id, rettype=\"xml\")\n",
        "            xml_data = handle.read()\n",
        "            handle.close()\n",
        "            return xml_data, None  # Return xml_data and no error\n",
        "        except Exception as e:\n",
        "            print(f\"Error occurred for gene ID {gene_id}: {e}. Retrying in {retry_delay} seconds...\")\n",
        "            time.sleep(retry_delay)\n",
        "            retry_delay *= 2  # Exponential backoff\n",
        "    return None, f\"Failed to fetch gene information for gene ID {gene_id} after {max_retries} retries.\"\n",
        "\n",
        "# Initialize the list to store gene data\n",
        "gene_data = []\n",
        "\n",
        "\n",
        "# Initialize tqdm progress bar\n",
        "progress_bar = tqdm(total=len(gene_ids), desc=\"Fetching Gene Information\")\n",
        "\n",
        "# Fetch information for each geneID from NCBI\n",
        "for gene_id in gene_ids:\n",
        "    xml_data, error = fetch_gene_info_with_retry(gene_id)  # Fetch gene info with retries\n",
        "\n",
        "    if error:\n",
        "        print(\"Error occurred for gene ID {}: {}\".format(gene_id, error))\n",
        "        continue  # Skip to the next gene ID if an error occurs\n",
        "\n",
        "    # Parse XML data\n",
        "    root = ET.fromstring(xml_data)\n",
        "\n",
        "    # Navigate the XML to extract needed information\n",
        "    for gene in root.findall('.//Entrezgene'):\n",
        "        gene_id = gene.find('.//Gene-track_geneid').text\n",
        "        status = gene.find('.//Gene-track_status').attrib.get('value', '')  # Use get method to handle None\n",
        "        gene_name = gene.find('.//Gene-ref_locus').text if gene.find('.//Gene-ref_locus') is not None else \"\"\n",
        "        description = gene.find('.//Gene-ref_desc').text if gene.find('.//Gene-ref_desc') is not None else \"\"\n",
        "        summary = gene.find('.//Entrezgene_summary').text if gene.find('.//Entrezgene_summary') is not None else \"\"\n",
        "\n",
        "        # Check if any of the attributes is None, and if so, skip this gene\n",
        "        if None in [gene_id, status, gene_name, description, summary]:\n",
        "            print(f\"One or more attributes missing for gene ID {gene_id}. Skipping.\")\n",
        "            continue\n",
        "\n",
        "        synonyms = [syn.text for syn in gene.findall('.//Gene-ref_syn')]\n",
        "        synonym_text = ', '.join(synonyms)\n",
        "\n",
        "        gene_data.append({\n",
        "            \"Gene ID\": gene_id,\n",
        "            \"Status\": status,\n",
        "            \"Gene Name\": gene_name,\n",
        "            \"Description\": description,\n",
        "            \"Summary\": summary,\n",
        "            \"Synonyms\": synonym_text\n",
        "        })\n",
        "\n",
        "    # Update progress bar\n",
        "    progress_bar.update(1)\n",
        "\n",
        "    time.sleep(0.1)  # Sleep for 0.1 second (10 requests per second)\n",
        "\n",
        "# Close tqdm progress bar\n",
        "progress_bar.close()\n",
        "\n",
        "# Convert the list of dictionaries into a DataFrame\n",
        "import pandas as pd\n",
        "df_gene_info = pd.DataFrame(gene_data)\n",
        "print(df_gene_info)\n"
      ]
    },
    {
      "cell_type": "code",
      "execution_count": null,
      "metadata": {
        "id": "4tvrvXRoWD_9"
      },
      "outputs": [],
      "source": [
        "df_gene_info.to_excel('df_gene_info.xlsx')"
      ]
    },
    {
      "cell_type": "code",
      "execution_count": null,
      "metadata": {
        "colab": {
          "base_uri": "https://localhost:8080/",
          "height": 545
        },
        "id": "saT802L_7u9a",
        "outputId": "e2938ed1-e663-49e7-9dcf-99f54491335e"
      },
      "outputs": [
        {
          "data": {
            "application/vnd.google.colaboratory.intrinsic+json": {
              "summary": "{\n  \"name\": \"df_gene_info\",\n  \"rows\": 6315,\n  \"fields\": [\n    {\n      \"column\": \"Gene ID\",\n      \"properties\": {\n        \"dtype\": \"string\",\n        \"num_unique_values\": 6315,\n        \"samples\": [\n          \"85154\",\n          \"85087\",\n          \"96996\"\n        ],\n        \"semantic_type\": \"\",\n        \"description\": \"\"\n      }\n    },\n    {\n      \"column\": \"Status\",\n      \"properties\": {\n        \"dtype\": \"category\",\n        \"num_unique_values\": 3,\n        \"samples\": [\n          \"secondary\",\n          \"discontinued\",\n          \"live\"\n        ],\n        \"semantic_type\": \"\",\n        \"description\": \"\"\n      }\n    },\n    {\n      \"column\": \"Gene Name\",\n      \"properties\": {\n        \"dtype\": \"string\",\n        \"num_unique_values\": 6293,\n        \"samples\": [\n          \"LOC82980\",\n          \"C78200\",\n          \"LOC96680\"\n        ],\n        \"semantic_type\": \"\",\n        \"description\": \"\"\n      }\n    },\n    {\n      \"column\": \"Description\",\n      \"properties\": {\n        \"dtype\": \"string\",\n        \"num_unique_values\": 5893,\n        \"samples\": [\n          \"similar to regulator of nonsense transcripts 2; DKFZP434D222 protein (H. sapiens)\",\n          \"nasopharyngeal carcinoma-related protein\",\n          \"hypothetical protein MGC13219\"\n        ],\n        \"semantic_type\": \"\",\n        \"description\": \"\"\n      }\n    },\n    {\n      \"column\": \"Summary\",\n      \"properties\": {\n        \"dtype\": \"category\",\n        \"num_unique_values\": 1364,\n        \"samples\": [\n          \"This gene encodes a nucleoid protein localized to the mitochondria inner membrane. The encoded protein affects regulation of insulin secretion, mitochondrial ATP production, and myogenesis through modulation of mitochondrial respiratory chain activity. [provided by RefSeq, Oct 2012]\",\n          \"Predicted to enable fibroblast growth factor binding activity and fibroblast growth factor receptor binding activity. Involved in several processes, including norepinephrine biosynthetic process; response to angiotensin; and response to vitamin D. Predicted to be located in membrane. Used to study familial hyperlipidemia; hypertension; and kidney failure. Biomarker of chronic kidney disease (multiple); hypertension; retinitis pigmentosa; secondary hyperparathyroidism; and type 2 diabetes mellitus. Human ortholog(s) of this gene implicated in coronary artery disease; intracranial embolism; and spondylosis. Orthologous to human KL (klotho). [provided by Alliance of Genome Resources, Apr 2022]\",\n          \"Eukaryotic RNA polymerase I (pol I) is responsible for the transcription of ribosomal RNA (rRNA) genes and production of rRNA, the primary component of ribosomes. Pol I is a multisubunit enzyme composed of 6 to 14 polypeptides, depending on the species. Most of the mass of the pol I complex derives from the 2 largest subunits, Rpa1 and Rpa2 in yeast. POLR1B is homologous to Rpa2 (Seither and Grummt, 1996 [PubMed 8921381]).[supplied by OMIM, Mar 2008]\"\n        ],\n        \"semantic_type\": \"\",\n        \"description\": \"\"\n      }\n    },\n    {\n      \"column\": \"Synonyms\",\n      \"properties\": {\n        \"dtype\": \"category\",\n        \"num_unique_values\": 2,\n        \"samples\": [\n          \"\\n        \",\n          \"\"\n        ],\n        \"semantic_type\": \"\",\n        \"description\": \"\"\n      }\n    }\n  ]\n}",
              "type": "dataframe",
              "variable_name": "df_gene_info"
            },
            "text/html": [
              "\n",
              "  <div id=\"df-78a445bb-7940-4958-9d54-c6a5102f4701\" class=\"colab-df-container\">\n",
              "    <div>\n",
              "<style scoped>\n",
              "    .dataframe tbody tr th:only-of-type {\n",
              "        vertical-align: middle;\n",
              "    }\n",
              "\n",
              "    .dataframe tbody tr th {\n",
              "        vertical-align: top;\n",
              "    }\n",
              "\n",
              "    .dataframe thead th {\n",
              "        text-align: right;\n",
              "    }\n",
              "</style>\n",
              "<table border=\"1\" class=\"dataframe\">\n",
              "  <thead>\n",
              "    <tr style=\"text-align: right;\">\n",
              "      <th></th>\n",
              "      <th>Gene ID</th>\n",
              "      <th>Status</th>\n",
              "      <th>Gene Name</th>\n",
              "      <th>Description</th>\n",
              "      <th>Summary</th>\n",
              "      <th>Synonyms</th>\n",
              "    </tr>\n",
              "  </thead>\n",
              "  <tbody>\n",
              "    <tr>\n",
              "      <th>0</th>\n",
              "      <td>97577</td>\n",
              "      <td>secondary</td>\n",
              "      <td>E230019G03Rik</td>\n",
              "      <td>RIKEN cDNA E230019G03 gene</td>\n",
              "      <td></td>\n",
              "      <td></td>\n",
              "    </tr>\n",
              "    <tr>\n",
              "      <th>1</th>\n",
              "      <td>97252</td>\n",
              "      <td>secondary</td>\n",
              "      <td>C81327</td>\n",
              "      <td>expressed sequence C81327</td>\n",
              "      <td></td>\n",
              "      <td></td>\n",
              "    </tr>\n",
              "    <tr>\n",
              "      <th>2</th>\n",
              "      <td>96289</td>\n",
              "      <td>discontinued</td>\n",
              "      <td>LOC96289</td>\n",
              "      <td>similar to enabled homolog (Drosophila) (M. mu...</td>\n",
              "      <td>DISCONTINUED: This record has been withdrawn b...</td>\n",
              "      <td></td>\n",
              "    </tr>\n",
              "    <tr>\n",
              "      <th>3</th>\n",
              "      <td>84545</td>\n",
              "      <td>live</td>\n",
              "      <td>MRPL43</td>\n",
              "      <td>mitochondrial ribosomal protein L43</td>\n",
              "      <td>Mammalian mitochondrial ribosomal proteins are...</td>\n",
              "      <td>\\n</td>\n",
              "    </tr>\n",
              "    <tr>\n",
              "      <th>4</th>\n",
              "      <td>82891</td>\n",
              "      <td>discontinued</td>\n",
              "      <td>LOC82891</td>\n",
              "      <td>similar to RED PROTEIN (RER PROTEIN) (M. muscu...</td>\n",
              "      <td>DISCONTINUED: This record has been withdrawn b...</td>\n",
              "      <td></td>\n",
              "    </tr>\n",
              "    <tr>\n",
              "      <th>...</th>\n",
              "      <td>...</td>\n",
              "      <td>...</td>\n",
              "      <td>...</td>\n",
              "      <td>...</td>\n",
              "      <td>...</td>\n",
              "      <td>...</td>\n",
              "    </tr>\n",
              "    <tr>\n",
              "      <th>6310</th>\n",
              "      <td>84278</td>\n",
              "      <td>live</td>\n",
              "      <td>MFSD14CP</td>\n",
              "      <td>major facilitator superfamily domain containin...</td>\n",
              "      <td>Predicted to enable transmembrane transporter ...</td>\n",
              "      <td>\\n</td>\n",
              "    </tr>\n",
              "    <tr>\n",
              "      <th>6311</th>\n",
              "      <td>96658</td>\n",
              "      <td>discontinued</td>\n",
              "      <td>LOC96658</td>\n",
              "      <td>similar to ZINC FINGER PROTEIN 23 (ZINC FINGER...</td>\n",
              "      <td>DISCONTINUED: This record has been withdrawn b...</td>\n",
              "      <td></td>\n",
              "    </tr>\n",
              "    <tr>\n",
              "      <th>6312</th>\n",
              "      <td>96793</td>\n",
              "      <td>discontinued</td>\n",
              "      <td>LOC96793</td>\n",
              "      <td>similar to hypothetical protein MGC2615 (H. sa...</td>\n",
              "      <td>DISCONTINUED: This record has been withdrawn b...</td>\n",
              "      <td></td>\n",
              "    </tr>\n",
              "    <tr>\n",
              "      <th>6313</th>\n",
              "      <td>97854</td>\n",
              "      <td>secondary</td>\n",
              "      <td>C77215</td>\n",
              "      <td>expressed sequence C77215</td>\n",
              "      <td></td>\n",
              "      <td></td>\n",
              "    </tr>\n",
              "    <tr>\n",
              "      <th>6314</th>\n",
              "      <td>98269</td>\n",
              "      <td>secondary</td>\n",
              "      <td>AI132431</td>\n",
              "      <td>expressed sequence AI132431</td>\n",
              "      <td></td>\n",
              "      <td></td>\n",
              "    </tr>\n",
              "  </tbody>\n",
              "</table>\n",
              "<p>6315 rows × 6 columns</p>\n",
              "</div>\n",
              "    <div class=\"colab-df-buttons\">\n",
              "\n",
              "  <div class=\"colab-df-container\">\n",
              "    <button class=\"colab-df-convert\" onclick=\"convertToInteractive('df-78a445bb-7940-4958-9d54-c6a5102f4701')\"\n",
              "            title=\"Convert this dataframe to an interactive table.\"\n",
              "            style=\"display:none;\">\n",
              "\n",
              "  <svg xmlns=\"http://www.w3.org/2000/svg\" height=\"24px\" viewBox=\"0 -960 960 960\">\n",
              "    <path d=\"M120-120v-720h720v720H120Zm60-500h600v-160H180v160Zm220 220h160v-160H400v160Zm0 220h160v-160H400v160ZM180-400h160v-160H180v160Zm440 0h160v-160H620v160ZM180-180h160v-160H180v160Zm440 0h160v-160H620v160Z\"/>\n",
              "  </svg>\n",
              "    </button>\n",
              "\n",
              "  <style>\n",
              "    .colab-df-container {\n",
              "      display:flex;\n",
              "      gap: 12px;\n",
              "    }\n",
              "\n",
              "    .colab-df-convert {\n",
              "      background-color: #E8F0FE;\n",
              "      border: none;\n",
              "      border-radius: 50%;\n",
              "      cursor: pointer;\n",
              "      display: none;\n",
              "      fill: #1967D2;\n",
              "      height: 32px;\n",
              "      padding: 0 0 0 0;\n",
              "      width: 32px;\n",
              "    }\n",
              "\n",
              "    .colab-df-convert:hover {\n",
              "      background-color: #E2EBFA;\n",
              "      box-shadow: 0px 1px 2px rgba(60, 64, 67, 0.3), 0px 1px 3px 1px rgba(60, 64, 67, 0.15);\n",
              "      fill: #174EA6;\n",
              "    }\n",
              "\n",
              "    .colab-df-buttons div {\n",
              "      margin-bottom: 4px;\n",
              "    }\n",
              "\n",
              "    [theme=dark] .colab-df-convert {\n",
              "      background-color: #3B4455;\n",
              "      fill: #D2E3FC;\n",
              "    }\n",
              "\n",
              "    [theme=dark] .colab-df-convert:hover {\n",
              "      background-color: #434B5C;\n",
              "      box-shadow: 0px 1px 3px 1px rgba(0, 0, 0, 0.15);\n",
              "      filter: drop-shadow(0px 1px 2px rgba(0, 0, 0, 0.3));\n",
              "      fill: #FFFFFF;\n",
              "    }\n",
              "  </style>\n",
              "\n",
              "    <script>\n",
              "      const buttonEl =\n",
              "        document.querySelector('#df-78a445bb-7940-4958-9d54-c6a5102f4701 button.colab-df-convert');\n",
              "      buttonEl.style.display =\n",
              "        google.colab.kernel.accessAllowed ? 'block' : 'none';\n",
              "\n",
              "      async function convertToInteractive(key) {\n",
              "        const element = document.querySelector('#df-78a445bb-7940-4958-9d54-c6a5102f4701');\n",
              "        const dataTable =\n",
              "          await google.colab.kernel.invokeFunction('convertToInteractive',\n",
              "                                                    [key], {});\n",
              "        if (!dataTable) return;\n",
              "\n",
              "        const docLinkHtml = 'Like what you see? Visit the ' +\n",
              "          '<a target=\"_blank\" href=https://colab.research.google.com/notebooks/data_table.ipynb>data table notebook</a>'\n",
              "          + ' to learn more about interactive tables.';\n",
              "        element.innerHTML = '';\n",
              "        dataTable['output_type'] = 'display_data';\n",
              "        await google.colab.output.renderOutput(dataTable, element);\n",
              "        const docLink = document.createElement('div');\n",
              "        docLink.innerHTML = docLinkHtml;\n",
              "        element.appendChild(docLink);\n",
              "      }\n",
              "    </script>\n",
              "  </div>\n",
              "\n",
              "\n",
              "<div id=\"df-460b60b4-0edf-4c4d-bacb-902ff43e5169\">\n",
              "  <button class=\"colab-df-quickchart\" onclick=\"quickchart('df-460b60b4-0edf-4c4d-bacb-902ff43e5169')\"\n",
              "            title=\"Suggest charts\"\n",
              "            style=\"display:none;\">\n",
              "\n",
              "<svg xmlns=\"http://www.w3.org/2000/svg\" height=\"24px\"viewBox=\"0 0 24 24\"\n",
              "     width=\"24px\">\n",
              "    <g>\n",
              "        <path d=\"M19 3H5c-1.1 0-2 .9-2 2v14c0 1.1.9 2 2 2h14c1.1 0 2-.9 2-2V5c0-1.1-.9-2-2-2zM9 17H7v-7h2v7zm4 0h-2V7h2v10zm4 0h-2v-4h2v4z\"/>\n",
              "    </g>\n",
              "</svg>\n",
              "  </button>\n",
              "\n",
              "<style>\n",
              "  .colab-df-quickchart {\n",
              "      --bg-color: #E8F0FE;\n",
              "      --fill-color: #1967D2;\n",
              "      --hover-bg-color: #E2EBFA;\n",
              "      --hover-fill-color: #174EA6;\n",
              "      --disabled-fill-color: #AAA;\n",
              "      --disabled-bg-color: #DDD;\n",
              "  }\n",
              "\n",
              "  [theme=dark] .colab-df-quickchart {\n",
              "      --bg-color: #3B4455;\n",
              "      --fill-color: #D2E3FC;\n",
              "      --hover-bg-color: #434B5C;\n",
              "      --hover-fill-color: #FFFFFF;\n",
              "      --disabled-bg-color: #3B4455;\n",
              "      --disabled-fill-color: #666;\n",
              "  }\n",
              "\n",
              "  .colab-df-quickchart {\n",
              "    background-color: var(--bg-color);\n",
              "    border: none;\n",
              "    border-radius: 50%;\n",
              "    cursor: pointer;\n",
              "    display: none;\n",
              "    fill: var(--fill-color);\n",
              "    height: 32px;\n",
              "    padding: 0;\n",
              "    width: 32px;\n",
              "  }\n",
              "\n",
              "  .colab-df-quickchart:hover {\n",
              "    background-color: var(--hover-bg-color);\n",
              "    box-shadow: 0 1px 2px rgba(60, 64, 67, 0.3), 0 1px 3px 1px rgba(60, 64, 67, 0.15);\n",
              "    fill: var(--button-hover-fill-color);\n",
              "  }\n",
              "\n",
              "  .colab-df-quickchart-complete:disabled,\n",
              "  .colab-df-quickchart-complete:disabled:hover {\n",
              "    background-color: var(--disabled-bg-color);\n",
              "    fill: var(--disabled-fill-color);\n",
              "    box-shadow: none;\n",
              "  }\n",
              "\n",
              "  .colab-df-spinner {\n",
              "    border: 2px solid var(--fill-color);\n",
              "    border-color: transparent;\n",
              "    border-bottom-color: var(--fill-color);\n",
              "    animation:\n",
              "      spin 1s steps(1) infinite;\n",
              "  }\n",
              "\n",
              "  @keyframes spin {\n",
              "    0% {\n",
              "      border-color: transparent;\n",
              "      border-bottom-color: var(--fill-color);\n",
              "      border-left-color: var(--fill-color);\n",
              "    }\n",
              "    20% {\n",
              "      border-color: transparent;\n",
              "      border-left-color: var(--fill-color);\n",
              "      border-top-color: var(--fill-color);\n",
              "    }\n",
              "    30% {\n",
              "      border-color: transparent;\n",
              "      border-left-color: var(--fill-color);\n",
              "      border-top-color: var(--fill-color);\n",
              "      border-right-color: var(--fill-color);\n",
              "    }\n",
              "    40% {\n",
              "      border-color: transparent;\n",
              "      border-right-color: var(--fill-color);\n",
              "      border-top-color: var(--fill-color);\n",
              "    }\n",
              "    60% {\n",
              "      border-color: transparent;\n",
              "      border-right-color: var(--fill-color);\n",
              "    }\n",
              "    80% {\n",
              "      border-color: transparent;\n",
              "      border-right-color: var(--fill-color);\n",
              "      border-bottom-color: var(--fill-color);\n",
              "    }\n",
              "    90% {\n",
              "      border-color: transparent;\n",
              "      border-bottom-color: var(--fill-color);\n",
              "    }\n",
              "  }\n",
              "</style>\n",
              "\n",
              "  <script>\n",
              "    async function quickchart(key) {\n",
              "      const quickchartButtonEl =\n",
              "        document.querySelector('#' + key + ' button');\n",
              "      quickchartButtonEl.disabled = true;  // To prevent multiple clicks.\n",
              "      quickchartButtonEl.classList.add('colab-df-spinner');\n",
              "      try {\n",
              "        const charts = await google.colab.kernel.invokeFunction(\n",
              "            'suggestCharts', [key], {});\n",
              "      } catch (error) {\n",
              "        console.error('Error during call to suggestCharts:', error);\n",
              "      }\n",
              "      quickchartButtonEl.classList.remove('colab-df-spinner');\n",
              "      quickchartButtonEl.classList.add('colab-df-quickchart-complete');\n",
              "    }\n",
              "    (() => {\n",
              "      let quickchartButtonEl =\n",
              "        document.querySelector('#df-460b60b4-0edf-4c4d-bacb-902ff43e5169 button');\n",
              "      quickchartButtonEl.style.display =\n",
              "        google.colab.kernel.accessAllowed ? 'block' : 'none';\n",
              "    })();\n",
              "  </script>\n",
              "</div>\n",
              "    </div>\n",
              "  </div>\n"
            ],
            "text/plain": [
              "     Gene ID        Status      Gene Name  \\\n",
              "0      97577     secondary  E230019G03Rik   \n",
              "1      97252     secondary         C81327   \n",
              "2      96289  discontinued       LOC96289   \n",
              "3      84545          live         MRPL43   \n",
              "4      82891  discontinued       LOC82891   \n",
              "...      ...           ...            ...   \n",
              "6310   84278          live       MFSD14CP   \n",
              "6311   96658  discontinued       LOC96658   \n",
              "6312   96793  discontinued       LOC96793   \n",
              "6313   97854     secondary         C77215   \n",
              "6314   98269     secondary       AI132431   \n",
              "\n",
              "                                            Description  \\\n",
              "0                            RIKEN cDNA E230019G03 gene   \n",
              "1                             expressed sequence C81327   \n",
              "2     similar to enabled homolog (Drosophila) (M. mu...   \n",
              "3                   mitochondrial ribosomal protein L43   \n",
              "4     similar to RED PROTEIN (RER PROTEIN) (M. muscu...   \n",
              "...                                                 ...   \n",
              "6310  major facilitator superfamily domain containin...   \n",
              "6311  similar to ZINC FINGER PROTEIN 23 (ZINC FINGER...   \n",
              "6312  similar to hypothetical protein MGC2615 (H. sa...   \n",
              "6313                          expressed sequence C77215   \n",
              "6314                        expressed sequence AI132431   \n",
              "\n",
              "                                                Summary    Synonyms  \n",
              "0                                                                    \n",
              "1                                                                    \n",
              "2     DISCONTINUED: This record has been withdrawn b...              \n",
              "3     Mammalian mitochondrial ribosomal proteins are...  \\n          \n",
              "4     DISCONTINUED: This record has been withdrawn b...              \n",
              "...                                                 ...         ...  \n",
              "6310  Predicted to enable transmembrane transporter ...  \\n          \n",
              "6311  DISCONTINUED: This record has been withdrawn b...              \n",
              "6312  DISCONTINUED: This record has been withdrawn b...              \n",
              "6313                                                                 \n",
              "6314                                                                 \n",
              "\n",
              "[6315 rows x 6 columns]"
            ]
          },
          "execution_count": 28,
          "metadata": {},
          "output_type": "execute_result"
        }
      ],
      "source": [
        "df_gene_info"
      ]
    },
    {
      "cell_type": "code",
      "execution_count": null,
      "metadata": {
        "id": "nqk4ZAmx4lsu"
      },
      "outputs": [],
      "source": [
        "excel_file_path = 'All genes.xlsx'\n",
        "excel_sheets = pd.ExcelFile(excel_file_path)"
      ]
    },
    {
      "cell_type": "code",
      "execution_count": null,
      "metadata": {
        "id": "g1oos3Nb8i8Y"
      },
      "outputs": [],
      "source": [
        "# Initialize an ExcelWriter to write back to the Excel file\n",
        "with pd.ExcelWriter('updated.xlsx', engine='openpyxl') as writer:\n",
        "    for sheet_name in excel_sheets.sheet_names:\n",
        "        # Read the current sheet into a DataFrame\n",
        "        df_sheet = pd.read_excel(excel_sheets, sheet_name=sheet_name)\n",
        "\n",
        "        # Extract numerical ID from 'GeneID' in the sheet for matching\n",
        "        df_sheet['Numerical_ID'] = df_sheet['GeneID'].astype(str).str.extract('(\\d+)').astype(int)\n",
        "\n",
        "        # Merge the current sheet with the 'df' DataFrame based on numerical IDs\n",
        "        df_merged = df_sheet.merge(df, left_on='Numerical_ID', right_on='GeneID', how='left')\n",
        "\n",
        "        # Safely drop the 'Numerical_ID' column if it exists\n",
        "        if 'Numerical_ID' in df_merged.columns:\n",
        "            df_merged.drop('Numerical_ID', axis=1, inplace=True)\n",
        "\n",
        "        # Write the merged DataFrame to the ExcelWriter object\n",
        "        df_merged.to_excel(writer, index=False, sheet_name=sheet_name)\n"
      ]
    }
  ],
  "metadata": {
    "colab": {
      "provenance": []
    },
    "kernelspec": {
      "display_name": "Python 3",
      "name": "python3"
    },
    "language_info": {
      "name": "python"
    }
  },
  "nbformat": 4,
  "nbformat_minor": 0
}
